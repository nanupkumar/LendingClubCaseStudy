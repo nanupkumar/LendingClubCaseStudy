{
 "cells": [
  {
   "cell_type": "markdown",
   "id": "5bfb94a7",
   "metadata": {},
   "source": [
    "## installing and loading relevant packages"
   ]
  },
  {
   "cell_type": "code",
   "execution_count": 253,
   "id": "adbbf6a6",
   "metadata": {},
   "outputs": [
    {
     "data": {
      "text/plain": [
       "(array([0. , 0.2, 0.4, 0.6, 0.8, 1. ]),\n",
       " [Text(0, 0, ''),\n",
       "  Text(0, 0, ''),\n",
       "  Text(0, 0, ''),\n",
       "  Text(0, 0, ''),\n",
       "  Text(0, 0, ''),\n",
       "  Text(0, 0, '')])"
      ]
     },
     "execution_count": 253,
     "metadata": {},
     "output_type": "execute_result"
    },
    {
     "data": {
      "image/png": "[encoded data removed]",
      "text/plain": [
       "<Figure size 1080x576 with 1 Axes>"
      ]
     },
     "metadata": {
      "needs_background": "light"
     },
     "output_type": "display_data"
    }
   ],
   "source": [
    "import pandas as pd\n",
    "import numpy as np\n",
    "import matplotlib.pyplot as plt\n",
    "%matplotlib inline\n",
    "import datetime\n",
    "import seaborn as sns\n",
    "plt.figure(figsize=(15, 8))\n",
    "plt.xticks(rotation=90)"
   ]
  },
  {
   "cell_type": "markdown",
   "id": "7bf72acd",
   "metadata": {},
   "source": [
    "## Loading the data set loan.csv"
   ]
  },
  {
   "cell_type": "code",
   "execution_count": 123,
   "id": "1988836f",
   "metadata": {
    "scrolled": false
   },
   "outputs": [],
   "source": [
    "loan_df = pd.read_csv(\"C:/Users/Anup/LendingClubCaseStudy/loan.csv\")"
   ]
  },
  {
   "cell_type": "code",
   "execution_count": 124,
   "id": "315208dd",
   "metadata": {},
   "outputs": [],
   "source": [
    "loan_df1 = pd.read_csv(\"C:/Users/Anup/LendingClubCaseStudy/loan.csv\")"
   ]
  },
  {
   "cell_type": "markdown",
   "id": "f675975e",
   "metadata": {},
   "source": [
    "### checking whether the file is loaded successfully or not"
   ]
  },
  {
   "cell_type": "code",
   "execution_count": 125,
   "id": "99829c95",
   "metadata": {},
   "outputs": [
    {
     "name": "stdout",
     "output_type": "stream",
     "text": [
      "True\n"
     ]
    }
   ],
   "source": [
    "print(pd.DataFrame.equals(loan_df, loan_df1))"
   ]
  },
  {
   "cell_type": "markdown",
   "id": "14d287c4",
   "metadata": {},
   "source": [
    "## Understanding the data set"
   ]
  },
  {
   "cell_type": "code",
   "execution_count": 200,
   "id": "63945858",
   "metadata": {},
   "outputs": [
    {
     "name": "stdout",
     "output_type": "stream",
     "text": [
      "(39717, 26)\n"
     ]
    }
   ],
   "source": [
    "print (loan_df.shape)"
   ]
  },
  {
   "cell_type": "code",
   "execution_count": null,
   "id": "a20dd745",
   "metadata": {},
   "outputs": [],
   "source": [
    "loan_df.info"
   ]
  },
  {
   "cell_type": "code",
   "execution_count": 204,
   "id": "23ad2f64",
   "metadata": {},
   "outputs": [],
   "source": [
    "features_with_na=[features for features in loan_df.columns if loan_df[features].isnull().sum()>1]"
   ]
  },
  {
   "cell_type": "code",
   "execution_count": 206,
   "id": "585b60d7",
   "metadata": {},
   "outputs": [
    {
     "name": "stdout",
     "output_type": "stream",
     "text": [
      "funded_amnt_inv 0.0032 %missing values\n",
      "emp_length 0.0271 %missing values\n",
      "dti 0.0046 %missing values\n",
      "revol_bal 0.025 %missing values\n",
      "revol_util 0.0013 %missing values\n",
      "total_pymnt 0.0004 %missing values\n",
      "total_pymnt_inv 0.0042 %missing values\n",
      "total_rec_prncp 0.0019 %missing values\n",
      "total_rec_int 0.0018 %missing values\n",
      "last_pymnt_amnt 0.0019 %missing values\n"
     ]
    }
   ],
   "source": [
    "for feature in features_with_na:\n",
    "    print(feature, np.round(loan_df[feature].isnull().mean(),4),'%missing values')"
   ]
  },
  {
   "cell_type": "markdown",
   "id": "be5c76d9",
   "metadata": {},
   "source": [
    "## Data Cleaning"
   ]
  },
  {
   "cell_type": "markdown",
   "id": "a64ed97f",
   "metadata": {},
   "source": [
    "### Removing columns holding NA values in all rows\n"
   ]
  },
  {
   "cell_type": "code",
   "execution_count": 126,
   "id": "8d57df0b",
   "metadata": {},
   "outputs": [],
   "source": [
    "loan_df = loan_df.dropna(axis='columns', how='all')"
   ]
  },
  {
   "cell_type": "markdown",
   "id": "b9819fb3",
   "metadata": {},
   "source": [
    "### Finding if there are columns where only one value is present in all the rows "
   ]
  },
  {
   "cell_type": "code",
   "execution_count": 127,
   "id": "565ed869",
   "metadata": {},
   "outputs": [
    {
     "name": "stdout",
     "output_type": "stream",
     "text": [
      "['pymnt_plan', 'initial_list_status', 'policy_code', 'application_type', 'acc_now_delinq', 'delinq_amnt']\n"
     ]
    }
   ],
   "source": [
    "df_onevalue = loan_df.columns[loan_df.eq(loan_df.iloc[0]).all()].tolist()\n",
    "print (df_onevalue)"
   ]
  },
  {
   "cell_type": "markdown",
   "id": "81e22ab6",
   "metadata": {},
   "source": [
    "### Removing rows where there is only one value is present in all the rows. Outcome from the previous query"
   ]
  },
  {
   "cell_type": "code",
   "execution_count": 128,
   "id": "3a64da48",
   "metadata": {},
   "outputs": [],
   "source": [
    "del loan_df[\"pymnt_plan\"]\n",
    "del loan_df[\"initial_list_status\"]\n",
    "del loan_df[\"policy_code\"]\n",
    "del loan_df[\"application_type\"]\n",
    "del loan_df[\"acc_now_delinq\"]\n",
    "del loan_df[\"delinq_amnt\"]"
   ]
  },
  {
   "cell_type": "markdown",
   "id": "7b1332a0",
   "metadata": {},
   "source": [
    "### Removing rows where there is same numeric value or NA is present in all the rows. Outcome from the previous query"
   ]
  },
  {
   "cell_type": "code",
   "execution_count": 129,
   "id": "c98579b5",
   "metadata": {},
   "outputs": [],
   "source": [
    "nunique = loan_df.nunique()"
   ]
  },
  {
   "cell_type": "code",
   "execution_count": 130,
   "id": "c4289b58",
   "metadata": {},
   "outputs": [],
   "source": [
    "cols_to_drop = nunique[nunique == 1].index"
   ]
  },
  {
   "cell_type": "code",
   "execution_count": 131,
   "id": "97e83138",
   "metadata": {},
   "outputs": [
    {
     "name": "stdout",
     "output_type": "stream",
     "text": [
      "Index(['collections_12_mths_ex_med', 'chargeoff_within_12_mths', 'tax_liens'], dtype='object')\n"
     ]
    }
   ],
   "source": [
    "print (cols_to_drop)"
   ]
  },
  {
   "cell_type": "code",
   "execution_count": 132,
   "id": "1440d5cf",
   "metadata": {},
   "outputs": [],
   "source": [
    "loan_df = loan_df.drop(cols_to_drop, axis=1)"
   ]
  },
  {
   "cell_type": "markdown",
   "id": "2b3754b4",
   "metadata": {},
   "source": [
    "### Removing columns having unique Ids, url etc.\n",
    "### id,member_id,emp_title,url,desc,title,zip_code"
   ]
  },
  {
   "cell_type": "code",
   "execution_count": 133,
   "id": "bdf72a68",
   "metadata": {},
   "outputs": [],
   "source": [
    "del loan_df[\"id\"]\n",
    "del loan_df[\"member_id\"]\n",
    "del loan_df[\"emp_title\"]\n",
    "del loan_df[\"url\"]\n",
    "del loan_df[\"desc\"]\n",
    "del loan_df[\"title\"]\n",
    "del loan_df[\"zip_code\"]"
   ]
  },
  {
   "cell_type": "markdown",
   "id": "dd5ba00d",
   "metadata": {},
   "source": [
    "### Based on the business case, removing all date columns except loan issue date as they are not relevant\n",
    "### \"earliest_cr_line\",\"last_pymnt_d\",\"next_pymnt_d\",\"last_credit_pull_d\""
   ]
  },
  {
   "cell_type": "code",
   "execution_count": 134,
   "id": "50de397e",
   "metadata": {},
   "outputs": [],
   "source": [
    "del loan_df[\"earliest_cr_line\"]\n",
    "del loan_df[\"last_pymnt_d\"]\n",
    "del loan_df[\"last_credit_pull_d\"]"
   ]
  },
  {
   "cell_type": "markdown",
   "id": "5b580b2b",
   "metadata": {},
   "source": [
    "### #removing columns with more than 60% of blanks or 0s"
   ]
  },
  {
   "cell_type": "code",
   "execution_count": 135,
   "id": "6c842d3b",
   "metadata": {},
   "outputs": [],
   "source": [
    "loan_df = loan_df.replace([0,' ','NULL'],np.nan)"
   ]
  },
  {
   "cell_type": "code",
   "execution_count": 136,
   "id": "5bfc362b",
   "metadata": {
    "scrolled": true
   },
   "outputs": [],
   "source": [
    "loan_df = loan_df.dropna(thresh=df.shape[0]*0.6,how='all',axis=1)"
   ]
  },
  {
   "cell_type": "markdown",
   "id": "fedda7b2",
   "metadata": {},
   "source": [
    " ## Data Corrections and Manipulations"
   ]
  },
  {
   "cell_type": "markdown",
   "id": "9b998fde",
   "metadata": {},
   "source": [
    "### removing the '%' symbol in the interest and revol_util columns"
   ]
  },
  {
   "cell_type": "code",
   "execution_count": 137,
   "id": "b3ef025d",
   "metadata": {},
   "outputs": [],
   "source": [
    "loan_df.int_rate = loan_df.int_rate.str.replace('%', '')"
   ]
  },
  {
   "cell_type": "code",
   "execution_count": 138,
   "id": "6ea3dfe7",
   "metadata": {},
   "outputs": [],
   "source": [
    "loan_df.revol_util = loan_df.revol_util.str.replace('%', '')"
   ]
  },
  {
   "cell_type": "markdown",
   "id": "d1aefe2e",
   "metadata": {},
   "source": [
    "### converting issue_date to date format by appending '01' and converting to date format"
   ]
  },
  {
   "cell_type": "code",
   "execution_count": 139,
   "id": "eefe8bc1",
   "metadata": {},
   "outputs": [],
   "source": [
    "loan_df['issue_d'] = '01-' + loan_df['issue_d'].astype(str)"
   ]
  },
  {
   "cell_type": "markdown",
   "id": "8e3c17a4",
   "metadata": {},
   "source": [
    "### rounding of values in the decimal fields for only relevant columns"
   ]
  },
  {
   "cell_type": "code",
   "execution_count": 192,
   "id": "3fb047f5",
   "metadata": {
    "scrolled": true
   },
   "outputs": [],
   "source": [
    "def float_convert(string_to_convert): \n",
    "    return float(string_to_convert)\n",
    "    \n",
    "loan_df['int_rate'] = loan_df['int_rate'].apply(float_convert)"
   ]
  },
  {
   "cell_type": "code",
   "execution_count": 196,
   "id": "943f6acc",
   "metadata": {
    "scrolled": false
   },
   "outputs": [],
   "source": [
    "loan_df['annual_inc'] = loan_df['annual_inc'].apply(np.ceil)\n",
    "loan_df['funded_amnt_inv'] = loan_df['funded_amnt_inv'].apply(np.ceil)\n",
    "loan_df['last_pymnt_amnt'] = loan_df['last_pymnt_amnt'].apply(np.ceil)\n",
    "loan_df['int_rate'] = loan_df['int_rate'].apply(np.ceil)\n",
    "loan_df['total_pymnt'] = loan_df['total_pymnt'].apply(np.ceil)\n",
    "loan_df['total_pymnt_inv'] = loan_df['total_pymnt_inv'].apply(np.ceil)\n",
    "loan_df['total_rec_int'] = loan_df['total_rec_int'].apply(np.ceil)\n",
    "loan_df['total_rec_prncp'] = loan_df['total_rec_prncp'].apply(np.ceil)"
   ]
  },
  {
   "cell_type": "code",
   "execution_count": 197,
   "id": "73e4000d",
   "metadata": {
    "scrolled": true
   },
   "outputs": [
    {
     "name": "stdout",
     "output_type": "stream",
     "text": [
      "0        11.0\n",
      "1        16.0\n",
      "2        16.0\n",
      "3        14.0\n",
      "4        13.0\n",
      "         ... \n",
      "39712     9.0\n",
      "39713    11.0\n",
      "39714     9.0\n",
      "39715     8.0\n",
      "39716    14.0\n",
      "Name: int_rate, Length: 39717, dtype: float64\n"
     ]
    }
   ],
   "source": [
    "print (loan_df['int_rate'])"
   ]
  },
  {
   "cell_type": "code",
   "execution_count": 198,
   "id": "8a48d719",
   "metadata": {},
   "outputs": [],
   "source": [
    "loan_df.to_csv('my_output_file2.csv')"
   ]
  },
  {
   "cell_type": "code",
   "execution_count": 199,
   "id": "7ced2070",
   "metadata": {
    "scrolled": false
   },
   "outputs": [
    {
     "name": "stdout",
     "output_type": "stream",
     "text": [
      "(39717, 26)\n"
     ]
    }
   ],
   "source": [
    "print (loan_df.shape)"
   ]
  },
  {
   "cell_type": "markdown",
   "id": "da3fbcb9",
   "metadata": {},
   "source": [
    "## Derrived Feature Analysis"
   ]
  },
  {
   "cell_type": "markdown",
   "id": "49bdb559",
   "metadata": {},
   "source": [
    "### derrived matrix for the annual income"
   ]
  },
  {
   "cell_type": "code",
   "execution_count": 208,
   "id": "b62d14e8",
   "metadata": {
    "scrolled": false
   },
   "outputs": [
    {
     "data": {
      "text/plain": [
       "count    3.971700e+04\n",
       "mean     6.896893e+04\n",
       "std      6.379376e+04\n",
       "min      4.000000e+03\n",
       "25%      4.040400e+04\n",
       "50%      5.900000e+04\n",
       "75%      8.230000e+04\n",
       "max      6.000000e+06\n",
       "Name: annual_inc, dtype: float64"
      ]
     },
     "execution_count": 208,
     "metadata": {},
     "output_type": "execute_result"
    }
   ],
   "source": [
    "loan_df['annual_inc'].describe()"
   ]
  },
  {
   "cell_type": "code",
   "execution_count": 213,
   "id": "0cbb2450",
   "metadata": {},
   "outputs": [],
   "source": [
    "loan_df['bin_annual_inc'] = pd.cut(loan_df['annual_inc'], [0, 40000, 50000, 70000, 80000, 9999999999999999], labels=['Very Low', 'Low', 'Medium', 'High', 'Very High'])\n"
   ]
  },
  {
   "cell_type": "code",
   "execution_count": 214,
   "id": "3b2336e8",
   "metadata": {
    "scrolled": true
   },
   "outputs": [
    {
     "data": {
      "text/plain": [
       "count         39717\n",
       "unique            5\n",
       "top       Very High\n",
       "freq          10371\n",
       "Name: bin_annual_inc, dtype: object"
      ]
     },
     "execution_count": 214,
     "metadata": {},
     "output_type": "execute_result"
    }
   ],
   "source": [
    "loan_df['bin_annual_inc'].describe()"
   ]
  },
  {
   "cell_type": "code",
   "execution_count": 215,
   "id": "46dc39b9",
   "metadata": {
    "scrolled": true
   },
   "outputs": [
    {
     "name": "stdout",
     "output_type": "stream",
     "text": [
      "0         Very Low\n",
      "1         Very Low\n",
      "2         Very Low\n",
      "3              Low\n",
      "4             High\n",
      "           ...    \n",
      "39712    Very High\n",
      "39713     Very Low\n",
      "39714    Very High\n",
      "39715    Very High\n",
      "39716     Very Low\n",
      "Name: bin_annual_inc, Length: 39717, dtype: category\n",
      "Categories (5, object): ['Very Low' < 'Low' < 'Medium' < 'High' < 'Very High']\n"
     ]
    }
   ],
   "source": [
    "print (loan_df['bin_annual_inc'])"
   ]
  },
  {
   "cell_type": "markdown",
   "id": "8065ab35",
   "metadata": {},
   "source": [
    "### derrived matrix for the interest rate"
   ]
  },
  {
   "cell_type": "code",
   "execution_count": 217,
   "id": "3ca6dbe3",
   "metadata": {},
   "outputs": [
    {
     "data": {
      "text/plain": [
       "count    39717.000000\n",
       "mean        12.431075\n",
       "std          3.765493\n",
       "min          6.000000\n",
       "25%         10.000000\n",
       "50%         12.000000\n",
       "75%         15.000000\n",
       "max         25.000000\n",
       "Name: int_rate, dtype: float64"
      ]
     },
     "execution_count": 217,
     "metadata": {},
     "output_type": "execute_result"
    }
   ],
   "source": [
    "loan_df['int_rate'].describe()"
   ]
  },
  {
   "cell_type": "code",
   "execution_count": 218,
   "id": "1b89b704",
   "metadata": {},
   "outputs": [],
   "source": [
    "loan_df['bin_int_rate'] = pd.cut(loan_df['int_rate'], [0, 10, 11, 13, 15, 9999999999999999], labels=['Very Low', 'Low', 'Medium', 'High', 'Very High'])\n"
   ]
  },
  {
   "cell_type": "markdown",
   "id": "068e516f",
   "metadata": {},
   "source": [
    "### derrived matrix for the loan amount"
   ]
  },
  {
   "cell_type": "code",
   "execution_count": 220,
   "id": "03414513",
   "metadata": {},
   "outputs": [
    {
     "data": {
      "text/plain": [
       "count    39717.000000\n",
       "mean     11219.443815\n",
       "std       7456.670694\n",
       "min        500.000000\n",
       "25%       5500.000000\n",
       "50%      10000.000000\n",
       "75%      15000.000000\n",
       "max      35000.000000\n",
       "Name: loan_amnt, dtype: float64"
      ]
     },
     "execution_count": 220,
     "metadata": {},
     "output_type": "execute_result"
    }
   ],
   "source": [
    "loan_df['loan_amnt'].describe()"
   ]
  },
  {
   "cell_type": "code",
   "execution_count": 232,
   "id": "957d99bf",
   "metadata": {},
   "outputs": [],
   "source": [
    "loan_df['bin_loan_amnt'] = pd.cut(loan_df['loan_amnt'], [0, 5500, 8000, 12000, 15000, 9999999999999999], labels=['Very Low', 'Low', 'Medium', 'High', 'Very High'])"
   ]
  },
  {
   "cell_type": "markdown",
   "id": "a0a800a3",
   "metadata": {},
   "source": [
    "### derrived matrix for the installment"
   ]
  },
  {
   "cell_type": "code",
   "execution_count": 219,
   "id": "39f810e8",
   "metadata": {},
   "outputs": [
    {
     "data": {
      "text/plain": [
       "count    39717.000000\n",
       "mean       324.561922\n",
       "std        208.874874\n",
       "min         15.690000\n",
       "25%        167.020000\n",
       "50%        280.220000\n",
       "75%        430.780000\n",
       "max       1305.190000\n",
       "Name: installment, dtype: float64"
      ]
     },
     "execution_count": 219,
     "metadata": {},
     "output_type": "execute_result"
    }
   ],
   "source": [
    "loan_df['installment'].describe()"
   ]
  },
  {
   "cell_type": "code",
   "execution_count": 221,
   "id": "763b7a53",
   "metadata": {},
   "outputs": [],
   "source": [
    "loan_df['bin_installment'] = pd.cut(loan_df['installment'], [0, 168, 230, 330, 430, 9999999999999999], labels=['Very Low', 'Low', 'Medium', 'High', 'Very High'])"
   ]
  },
  {
   "cell_type": "markdown",
   "id": "4a8aea5d",
   "metadata": {},
   "source": [
    "## Plotting and Inference Gathering"
   ]
  },
  {
   "cell_type": "markdown",
   "id": "36f39e5f",
   "metadata": {},
   "source": [
    "### Annual Income vs. Loan Payment Status - Plot"
   ]
  },
  {
   "cell_type": "code",
   "execution_count": 244,
   "id": "83791459",
   "metadata": {
    "scrolled": true
   },
   "outputs": [
    {
     "data": {
      "text/plain": [
       "<seaborn.axisgrid.FacetGrid at 0x27f5b9a3ca0>"
      ]
     },
     "execution_count": 244,
     "metadata": {},
     "output_type": "execute_result"
    },
    {
     "data": {
      "image/png": "[encoded data removed]",
      "text/plain": [
       "<Figure size 456.375x360 with 1 Axes>"
      ]
     },
     "metadata": {
      "needs_background": "light"
     },
     "output_type": "display_data"
    }
   ],
   "source": [
    "sns.displot(loan_df, x=\"bin_annual_inc\", hue=\"loan_status\", multiple=\"dodge\")"
   ]
  },
  {
   "cell_type": "markdown",
   "id": "077ab84d",
   "metadata": {},
   "source": [
    "### Loan Status vs. Interest Rate - Plot"
   ]
  },
  {
   "cell_type": "code",
   "execution_count": 230,
   "id": "db9e2249",
   "metadata": {},
   "outputs": [
    {
     "data": {
      "text/plain": [
       "<seaborn.axisgrid.FacetGrid at 0x27f5990da00>"
      ]
     },
     "execution_count": 230,
     "metadata": {},
     "output_type": "execute_result"
    },
    {
     "data": {
      "image/png": "[encoded data removed]",
      "text/plain": [
       "<Figure size 456.375x360 with 1 Axes>"
      ]
     },
     "metadata": {
      "needs_background": "light"
     },
     "output_type": "display_data"
    }
   ],
   "source": [
    "sns.displot(loan_df, x=\"bin_int_rate\", hue=\"loan_status\", multiple=\"dodge\")"
   ]
  },
  {
   "cell_type": "markdown",
   "id": "1c82c164",
   "metadata": {},
   "source": [
    "### Loan Status vs. Loan Amount - Plot"
   ]
  },
  {
   "cell_type": "code",
   "execution_count": 233,
   "id": "2cd94149",
   "metadata": {},
   "outputs": [
    {
     "data": {
      "text/plain": [
       "<seaborn.axisgrid.FacetGrid at 0x27f5b52b0d0>"
      ]
     },
     "execution_count": 233,
     "metadata": {},
     "output_type": "execute_result"
    },
    {
     "data": {
      "image/png": "[encoded data removed]",
      "text/plain": [
       "<Figure size 456.375x360 with 1 Axes>"
      ]
     },
     "metadata": {
      "needs_background": "light"
     },
     "output_type": "display_data"
    }
   ],
   "source": [
    "sns.displot(loan_df, x=\"bin_loan_amnt\", hue=\"loan_status\", multiple=\"dodge\")"
   ]
  },
  {
   "cell_type": "markdown",
   "id": "a010921e",
   "metadata": {},
   "source": [
    "### Loan Status vs. Instalment Amount - Plot"
   ]
  },
  {
   "cell_type": "code",
   "execution_count": 234,
   "id": "a3781dd2",
   "metadata": {},
   "outputs": [
    {
     "data": {
      "text/plain": [
       "<seaborn.axisgrid.FacetGrid at 0x27f5bc9d130>"
      ]
     },
     "execution_count": 234,
     "metadata": {},
     "output_type": "execute_result"
    },
    {
     "data": {
      "image/png": "[encoded data removed]",
      "text/plain": [
       "<Figure size 456.375x360 with 1 Axes>"
      ]
     },
     "metadata": {
      "needs_background": "light"
     },
     "output_type": "display_data"
    }
   ],
   "source": [
    "sns.displot(loan_df, x=\"bin_installment\", hue=\"loan_status\", multiple=\"dodge\")"
   ]
  },
  {
   "cell_type": "markdown",
   "id": "667cd9ea",
   "metadata": {},
   "source": [
    "### Loan Status vs. Verification Status - Plot"
   ]
  },
  {
   "cell_type": "code",
   "execution_count": 236,
   "id": "1fea33c1",
   "metadata": {},
   "outputs": [
    {
     "data": {
      "text/plain": [
       "<seaborn.axisgrid.FacetGrid at 0x27f5fca60a0>"
      ]
     },
     "execution_count": 236,
     "metadata": {},
     "output_type": "execute_result"
    },
    {
     "data": {
      "image/png": "[encoded data removed]",
      "text/plain": [
       "<Figure size 456.375x360 with 1 Axes>"
      ]
     },
     "metadata": {
      "needs_background": "light"
     },
     "output_type": "display_data"
    }
   ],
   "source": [
    "sns.displot(loan_df, x=\"verification_status\", hue=\"loan_status\", multiple=\"dodge\")"
   ]
  },
  {
   "cell_type": "markdown",
   "id": "3b18018b",
   "metadata": {},
   "source": [
    "### Loan Status vs. Purpose - Plot"
   ]
  },
  {
   "cell_type": "code",
   "execution_count": 260,
   "id": "01cb2d17",
   "metadata": {},
   "outputs": [
    {
     "data": {
      "text/plain": [
       "([0, 1, 2, 3, 4, 5, 6, 7, 8, 9, 10, 11, 12, 13],\n",
       " [Text(0, 0, 'credit_card'),\n",
       "  Text(1, 0, 'car'),\n",
       "  Text(2, 0, 'small_business'),\n",
       "  Text(3, 0, 'other'),\n",
       "  Text(4, 0, 'wedding'),\n",
       "  Text(5, 0, 'debt_consolidation'),\n",
       "  Text(6, 0, 'home_improvement'),\n",
       "  Text(7, 0, 'major_purchase'),\n",
       "  Text(8, 0, 'medical'),\n",
       "  Text(9, 0, 'moving'),\n",
       "  Text(10, 0, 'vacation'),\n",
       "  Text(11, 0, 'house'),\n",
       "  Text(12, 0, 'renewable_energy'),\n",
       "  Text(13, 0, 'educational')])"
      ]
     },
     "execution_count": 260,
     "metadata": {},
     "output_type": "execute_result"
    },
    {
     "data": {
      "image/png": "[encoded data removed]",
      "text/plain": [
       "<Figure size 456.375x360 with 1 Axes>"
      ]
     },
     "metadata": {
      "needs_background": "light"
     },
     "output_type": "display_data"
    }
   ],
   "source": [
    "sns.displot(loan_df, x=\"purpose\", hue=\"loan_status\", stat=\"density\",common_norm=False)\n",
    "plt.xticks(rotation=90)"
   ]
  },
  {
   "cell_type": "markdown",
   "id": "8e1cc09c",
   "metadata": {},
   "source": [
    "### Loan Status vs. Grade - Plot"
   ]
  },
  {
   "cell_type": "code",
   "execution_count": 265,
   "id": "3734b6d0",
   "metadata": {},
   "outputs": [
    {
     "data": {
      "text/plain": [
       "<seaborn.axisgrid.FacetGrid at 0x27f65d2cd30>"
      ]
     },
     "execution_count": 265,
     "metadata": {},
     "output_type": "execute_result"
    },
    {
     "data": {
      "image/png": "[encoded data removed]",
      "text/plain": [
       "<Figure size 456.375x360 with 1 Axes>"
      ]
     },
     "metadata": {
      "needs_background": "light"
     },
     "output_type": "display_data"
    }
   ],
   "source": [
    "sns.displot(loan_df, x=\"grade\", hue=\"loan_status\", stat=\"density\",common_norm=False)"
   ]
  },
  {
   "cell_type": "code",
   "execution_count": 222,
   "id": "bb388388",
   "metadata": {},
   "outputs": [],
   "source": [
    "loan_df.to_csv('my_output_file3.csv')"
   ]
  }
 ],
 "metadata": {
  "kernelspec": {
   "display_name": "Python 3",
   "language": "python",
   "name": "python3"
  },
  "language_info": {
   "codemirror_mode": {
    "name": "ipython",
    "version": 3
   },
   "file_extension": ".py",
   "mimetype": "text/x-python",
   "name": "python",
   "nbconvert_exporter": "python",
   "pygments_lexer": "ipython3",
   "version": "3.8.8"
  }
 },
 "nbformat": 4,
 "nbformat_minor": 5
}
